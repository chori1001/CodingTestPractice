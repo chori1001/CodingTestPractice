{
 "cells": [
  {
   "cell_type": "markdown",
   "metadata": {},
   "source": [
    "# 완주하지 못한 선수"
   ]
  },
  {
   "cell_type": "code",
   "execution_count": 74,
   "metadata": {},
   "outputs": [],
   "source": [
    "def solution(participant, completion):\n",
    "    \n",
    "    participant.sort()\n",
    "    completion.sort()\n",
    "    \n",
    "    for i in range(len(completion)):\n",
    "        if participant[i] != completion[i]:\n",
    "            return participant[i]\n",
    "        \n",
    "    return participant[i+1]"
   ]
  },
  {
   "cell_type": "markdown",
   "metadata": {},
   "source": [
    "# 전화번호 목록"
   ]
  },
  {
   "cell_type": "code",
   "execution_count": 75,
   "metadata": {},
   "outputs": [],
   "source": [
    "def solution(phone_book):\n",
    "    answer = True\n",
    "    \n",
    "    phone_book.sort()\n",
    "    \n",
    "    for i in range(len(phone_book)) :\n",
    "        if phone_book[i] in phone_book[i+1]:\n",
    "            answer = False\n",
    "        break\n",
    "    \n",
    "    return answer"
   ]
  },
  {
   "cell_type": "markdown",
   "metadata": {},
   "source": [
    "# 위장"
   ]
  },
  {
   "cell_type": "code",
   "execution_count": 20,
   "metadata": {},
   "outputs": [],
   "source": [
    "def solution(clothes) :\n",
    "    \n",
    "    answer = 1\n",
    "    dic = dict()\n",
    "    \n",
    "    for name, kind in clothes :\n",
    "        if kind not in dic :\n",
    "            dic[kind] = 1\n",
    "        else :\n",
    "            dic[kind] += 1\n",
    "    \n",
    "    for val in dic.values() :\n",
    "        answer *= (val + 1)\n",
    "    \n",
    "    return answer - 1"
   ]
  },
  {
   "cell_type": "markdown",
   "metadata": {},
   "source": [
    "# 베스트엘범"
   ]
  },
  {
   "cell_type": "code",
   "execution_count": 72,
   "metadata": {},
   "outputs": [],
   "source": [
    "def solution(genres, plays):\n",
    "    answer = []\n",
    "    songs={}\n",
    "    \n",
    "    for i in range(len(genres)): \n",
    "        if genres[i] not in songs: \n",
    "            songs[genres[i]]=plays[i]\n",
    "        else:\n",
    "            songs[genres[i]]+=plays[i]\n",
    "            \n",
    "    songs=sorted(songs.items(), key=lambda item:item[1]) \n",
    "    \n",
    "    print(songs[0])\n",
    "    \n",
    "        \n",
    "    while songs: \n",
    "        dic={}\n",
    "        song=songs.pop() # pop는 맨 마지막 값을 돌려 주고 나머지는 삭제.\n",
    "        for i in range(len(genres)): \n",
    "            if song[0]==genres[i]:\n",
    "                dic[i]=plays[i]\n",
    "        dic=sorted(dic.items(),reverse=True,key=lambda item:item[1]) #value 내림차순으로 정렬한거 \n",
    "        if len(dic)==1:         #주의할점 : 1개일 땐 그냥 1개 출력\n",
    "            answer.append(dic[0][0])\n",
    "        else:\n",
    "            for j in range(2): #많은 2개 출력\n",
    "                answer.append(dic[j][0])\n",
    "                \n",
    "    return answer"
   ]
  },
  {
   "cell_type": "code",
   "execution_count": null,
   "metadata": {},
   "outputs": [],
   "source": []
  }
 ],
 "metadata": {
  "kernelspec": {
   "display_name": "Python 3",
   "language": "python",
   "name": "python3"
  },
  "language_info": {
   "codemirror_mode": {
    "name": "ipython",
    "version": 3
   },
   "file_extension": ".py",
   "mimetype": "text/x-python",
   "name": "python",
   "nbconvert_exporter": "python",
   "pygments_lexer": "ipython3",
   "version": "3.7.6"
  }
 },
 "nbformat": 4,
 "nbformat_minor": 4
}
